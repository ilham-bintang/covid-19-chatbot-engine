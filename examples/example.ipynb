{
 "cells": [
  {
   "cell_type": "code",
   "execution_count": null,
   "metadata": {},
   "outputs": [],
   "source": [
    "# %matplotlib inline\n",
    "\n",
    "from covid_nlp import covid\n",
    "# import numpy as np\n",
    "# import matplotlib.pyplot as plt"
   ]
  },
  {
   "cell_type": "code",
   "execution_count": null,
   "metadata": {},
   "outputs": [],
   "source": [
    "all_country = covid.list_country()"
   ]
  },
  {
   "cell_type": "code",
   "execution_count": null,
   "metadata": {},
   "outputs": [],
   "source": [
    "all_country"
   ]
  },
  {
   "cell_type": "code",
   "execution_count": 4,
   "metadata": {},
   "outputs": [],
   "source": [
    "confirmed_country_ch = covid_data.confirmed_country('Indonesia')"
   ]
  },
  {
   "cell_type": "code",
   "execution_count": 5,
   "metadata": {},
   "outputs": [
    {
     "data": {
      "text/plain": [
       "{'Indonesia': 19}"
      ]
     },
     "execution_count": 5,
     "metadata": {},
     "output_type": "execute_result"
    }
   ],
   "source": [
    "confirmed_country_ch"
   ]
  },
  {
   "cell_type": "code",
   "execution_count": 6,
   "metadata": {},
   "outputs": [],
   "source": [
    "confirmed_country = covid_data.confirmed_country()"
   ]
  },
  {
   "cell_type": "code",
   "execution_count": 7,
   "metadata": {},
   "outputs": [
    {
     "data": {
      "text/plain": [
       "{'Mainland China': 80735,\n",
       " 'Thailand': 50,\n",
       " 'Japan': 511,\n",
       " 'South Korea': 7478,\n",
       " 'Taiwan': 45,\n",
       " 'US': 605,\n",
       " 'Macau': 10,\n",
       " 'Hong Kong': 115,\n",
       " 'Singapore': 150,\n",
       " 'Vietnam': 30,\n",
       " 'France': 1209,\n",
       " 'Nepal': 1,\n",
       " 'Malaysia': 117,\n",
       " 'Canada': 77,\n",
       " 'Australia': 91,\n",
       " 'Cambodia': 2,\n",
       " 'Sri Lanka': 1,\n",
       " 'Germany': 1176,\n",
       " 'Finland': 30,\n",
       " 'United Arab Emirates': 45,\n",
       " 'Philippines': 20,\n",
       " 'India': 43,\n",
       " 'Italy': 9172,\n",
       " 'UK': 321,\n",
       " 'Russia': 17,\n",
       " 'Sweden': 248,\n",
       " 'Spain': 1073,\n",
       " 'Belgium': 239,\n",
       " 'Others': 696,\n",
       " 'Egypt': 55,\n",
       " 'Iran': 7161,\n",
       " 'Lebanon': 32,\n",
       " 'Iraq': 60,\n",
       " 'Oman': 16,\n",
       " 'Afghanistan': 4,\n",
       " 'Bahrain': 95,\n",
       " 'Kuwait': 64,\n",
       " 'Algeria': 20,\n",
       " 'Croatia': 12,\n",
       " 'Switzerland': 374,\n",
       " 'Austria': 131,\n",
       " 'Israel': 39,\n",
       " 'Pakistan': 6,\n",
       " 'Brazil': 25,\n",
       " 'Georgia': 15,\n",
       " 'Greece': 73,\n",
       " 'North Macedonia': 3,\n",
       " 'Norway': 205,\n",
       " 'Romania': 15,\n",
       " 'Denmark': 90,\n",
       " 'Estonia': 10,\n",
       " 'Netherlands': 321,\n",
       " 'San Marino': 36,\n",
       " 'Belarus': 6,\n",
       " 'Iceland': 58,\n",
       " 'Lithuania': 1,\n",
       " 'Mexico': 7,\n",
       " 'New Zealand': 5,\n",
       " 'Nigeria': 2,\n",
       " 'Ireland': 21,\n",
       " 'Luxembourg': 3,\n",
       " 'Monaco': 1,\n",
       " 'Qatar': 18,\n",
       " 'Ecuador': 15,\n",
       " 'Azerbaijan': 9,\n",
       " 'Czech Republic': 31,\n",
       " 'Armenia': 1,\n",
       " 'Dominican Republic': 5,\n",
       " 'Indonesia': 19,\n",
       " 'Portugal': 30,\n",
       " 'Andorra': 1,\n",
       " 'Latvia': 6,\n",
       " 'Morocco': 2,\n",
       " 'Saudi Arabia': 15,\n",
       " 'Senegal': 4,\n",
       " 'Argentina': 12,\n",
       " 'Chile': 8,\n",
       " 'Jordan': 1,\n",
       " 'Ukraine': 1,\n",
       " 'Saint Barthelemy': 1,\n",
       " 'Hungary': 9,\n",
       " 'Faroe Islands': 2,\n",
       " 'Gibraltar': 1,\n",
       " 'Liechtenstein': 1,\n",
       " 'Poland': 16,\n",
       " 'Tunisia': 2,\n",
       " 'Palestine': 22,\n",
       " 'Bosnia and Herzegovina': 3,\n",
       " 'Slovenia': 16,\n",
       " 'South Africa': 3,\n",
       " 'Bhutan': 1,\n",
       " 'Cameroon': 2,\n",
       " 'Colombia': 1,\n",
       " 'Costa Rica': 9,\n",
       " 'Peru': 7,\n",
       " 'Serbia': 1,\n",
       " 'Slovakia': 3,\n",
       " 'Togo': 1,\n",
       " 'Vatican City': 1,\n",
       " 'French Guiana': 5,\n",
       " 'Malta': 3,\n",
       " 'Martinique': 2,\n",
       " 'Bulgaria': 4,\n",
       " 'Maldives': 4,\n",
       " 'Bangladesh': 3,\n",
       " 'Moldova': 1,\n",
       " 'Paraguay': 1,\n",
       " 'Albania': 2,\n",
       " 'Cyprus': 2,\n",
       " 'St. Martin': 2,\n",
       " 'Brunei': 1}"
      ]
     },
     "execution_count": 7,
     "metadata": {},
     "output_type": "execute_result"
    }
   ],
   "source": [
    "confirmed_country"
   ]
  },
  {
   "cell_type": "code",
   "execution_count": 8,
   "metadata": {},
   "outputs": [],
   "source": [
    "stats = covid_data.world_stats()"
   ]
  },
  {
   "cell_type": "code",
   "execution_count": 9,
   "metadata": {},
   "outputs": [],
   "source": [
    "day_1 = covid_data.world_stats(1)"
   ]
  },
  {
   "cell_type": "code",
   "execution_count": 10,
   "metadata": {},
   "outputs": [
    {
     "data": {
      "text/plain": [
       "{'world_cases': [555,\n",
       "  653,\n",
       "  941,\n",
       "  1434,\n",
       "  2118,\n",
       "  2927,\n",
       "  5578,\n",
       "  6166,\n",
       "  8234,\n",
       "  9927,\n",
       "  12038,\n",
       "  16787,\n",
       "  19881,\n",
       "  23892,\n",
       "  27636,\n",
       "  30818,\n",
       "  34392,\n",
       "  37121,\n",
       "  40151,\n",
       "  42763,\n",
       "  44803,\n",
       "  45222,\n",
       "  60370,\n",
       "  66887,\n",
       "  69032,\n",
       "  71226,\n",
       "  73260,\n",
       "  75138,\n",
       "  75641,\n",
       "  76199,\n",
       "  76843,\n",
       "  78599,\n",
       "  78985,\n",
       "  79570,\n",
       "  80415,\n",
       "  81397,\n",
       "  82756,\n",
       "  84122,\n",
       "  86013,\n",
       "  88371,\n",
       "  90309,\n",
       "  92843,\n",
       "  95123,\n",
       "  97885,\n",
       "  101799,\n",
       "  105835,\n",
       "  109814,\n",
       "  113583],\n",
       " 'total_deaths': [17,\n",
       "  18,\n",
       "  26,\n",
       "  42,\n",
       "  56,\n",
       "  82,\n",
       "  131,\n",
       "  133,\n",
       "  171,\n",
       "  213,\n",
       "  259,\n",
       "  362,\n",
       "  426,\n",
       "  492,\n",
       "  564,\n",
       "  634,\n",
       "  719,\n",
       "  806,\n",
       "  906,\n",
       "  1013,\n",
       "  1113,\n",
       "  1118,\n",
       "  1371,\n",
       "  1523,\n",
       "  1666,\n",
       "  1770,\n",
       "  1868,\n",
       "  2007,\n",
       "  2122,\n",
       "  2247,\n",
       "  2251,\n",
       "  2458,\n",
       "  2469,\n",
       "  2629,\n",
       "  2708,\n",
       "  2770,\n",
       "  2814,\n",
       "  2872,\n",
       "  2941,\n",
       "  2996,\n",
       "  3085,\n",
       "  3160,\n",
       "  3254,\n",
       "  3348,\n",
       "  3460,\n",
       "  3558,\n",
       "  3803,\n",
       "  3996],\n",
       " 'mortality_rate': [0.03063063063063063,\n",
       "  0.027565084226646247,\n",
       "  0.02763018065887354,\n",
       "  0.029288702928870293,\n",
       "  0.02644003777148253,\n",
       "  0.02801503245644004,\n",
       "  0.023485120114736465,\n",
       "  0.021569899448589037,\n",
       "  0.020767549186300704,\n",
       "  0.021456633423995165,\n",
       "  0.021515201860774213,\n",
       "  0.021564305712753917,\n",
       "  0.02142749358684171,\n",
       "  0.02059266700150678,\n",
       "  0.02040816326530612,\n",
       "  0.020572392757479394,\n",
       "  0.020906024656896952,\n",
       "  0.021712777134236687,\n",
       "  0.022564817812756842,\n",
       "  0.023688702850595142,\n",
       "  0.024842086467424057,\n",
       "  0.024722480208747954,\n",
       "  0.022709955275799238,\n",
       "  0.022769745989504687,\n",
       "  0.024133735079383475,\n",
       "  0.024850475949793616,\n",
       "  0.0254982254982255,\n",
       "  0.02671085203226064,\n",
       "  0.028053568831718247,\n",
       "  0.029488575965563854,\n",
       "  0.029293494527803443,\n",
       "  0.03127266250206746,\n",
       "  0.03125909982908147,\n",
       "  0.03304009048636421,\n",
       "  0.03367530933283591,\n",
       "  0.034030738233595835,\n",
       "  0.03400357677993136,\n",
       "  0.03414089061125508,\n",
       "  0.0341925057840094,\n",
       "  0.033902524583856695,\n",
       "  0.03416049341704592,\n",
       "  0.03403595316825178,\n",
       "  0.034208340779832425,\n",
       "  0.03420340195126935,\n",
       "  0.033988546056444566,\n",
       "  0.03361836821467378,\n",
       "  0.034631285628426246,\n",
       "  0.03518132114841129],\n",
       " 'total_recovered': [28,\n",
       "  30,\n",
       "  36,\n",
       "  39,\n",
       "  52,\n",
       "  61,\n",
       "  107,\n",
       "  126,\n",
       "  143,\n",
       "  222,\n",
       "  284,\n",
       "  472,\n",
       "  623,\n",
       "  852,\n",
       "  1124,\n",
       "  1487,\n",
       "  2011,\n",
       "  2616,\n",
       "  3244,\n",
       "  3946,\n",
       "  4683,\n",
       "  5150,\n",
       "  6295,\n",
       "  8058,\n",
       "  9395,\n",
       "  10865,\n",
       "  12583,\n",
       "  14352,\n",
       "  16121,\n",
       "  18177,\n",
       "  18890,\n",
       "  22886,\n",
       "  23394,\n",
       "  25227,\n",
       "  27905,\n",
       "  30384,\n",
       "  33277,\n",
       "  36711,\n",
       "  39782,\n",
       "  42716,\n",
       "  45602,\n",
       "  48229,\n",
       "  51171,\n",
       "  53797,\n",
       "  55866,\n",
       "  58359,\n",
       "  60695,\n",
       "  62512]}"
      ]
     },
     "execution_count": 10,
     "metadata": {},
     "output_type": "execute_result"
    }
   ],
   "source": [
    "stats"
   ]
  },
  {
   "cell_type": "code",
   "execution_count": 11,
   "metadata": {},
   "outputs": [
    {
     "data": {
      "image/png": "[encoded data removed]",
      "text/plain": [
       "<Figure size 720x432 with 1 Axes>"
      ]
     },
     "metadata": {
      "needs_background": "light"
     },
     "output_type": "display_data"
    }
   ],
   "source": [
    "plt.figure(figsize=(10, 6))\n",
    "plt.plot(stats['total_deaths'], color='red')\n",
    "plt.plot( stats['total_recovered'], color='green')\n",
    "plt.legend(['deaths', 'recoveries'], loc='best')\n",
    "plt.title('# of case')\n",
    "plt.xlabel('days')\n",
    "plt.ylabel('# of Cases')\n",
    "plt.xticks(rotation=50)\n",
    "plt.show()"
   ]
  },
  {
   "cell_type": "code",
   "execution_count": 17,
   "metadata": {},
   "outputs": [
    {
     "data": {
      "text/plain": [
       "{'world_cases': 9927,\n",
       " 'total_deaths': 213,\n",
       " 'mortality_rate': 0.9594594594594594,\n",
       " 'total_recovered': 222}"
      ]
     },
     "execution_count": 17,
     "metadata": {},
     "output_type": "execute_result"
    }
   ],
   "source": [
    "covid_data.world_stats(10)"
   ]
  },
  {
   "cell_type": "code",
   "execution_count": null,
   "metadata": {},
   "outputs": [],
   "source": []
  },
  {
   "cell_type": "code",
   "execution_count": null,
   "metadata": {},
   "outputs": [],
   "source": []
  }
 ],
 "metadata": {
  "kernelspec": {
   "display_name": "Python 3",
   "language": "python",
   "name": "python3"
  },
  "language_info": {
   "codemirror_mode": {
    "name": "ipython",
    "version": 3
   },
   "file_extension": ".py",
   "mimetype": "text/x-python",
   "name": "python",
   "nbconvert_exporter": "python",
   "pygments_lexer": "ipython3",
   "version": "3.7.6"
  }
 },
 "nbformat": 4,
 "nbformat_minor": 4
}
